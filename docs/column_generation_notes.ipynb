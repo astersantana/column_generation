{
 "cells": [
  {
   "cell_type": "markdown",
   "id": "ec2605e4-ca7b-4c12-afc6-8c2c0d87536b",
   "metadata": {},
   "source": [
    "# Column Generation"
   ]
  },
  {
   "cell_type": "markdown",
   "id": "e6c43c05-cc8f-482c-8a8b-f94780a21457",
   "metadata": {},
   "source": [
    "### Cutting Stock exemple:"
   ]
  },
  {
   "cell_type": "markdown",
   "id": "81fab4b7-1683-48ff-b358-3b67f2301179",
   "metadata": {},
   "source": [
    "There is a number of standard rolls, all with the same width $W$, and there are $m$ orders for items that must be cut out of the standard rolls. Order $j$ requires $b_j$ items, all with the same width $w_j$.\n",
    "\n",
    "The goal is to produce all items by using a minimum number of standard rolls.\n"
   ]
  },
  {
   "cell_type": "markdown",
   "id": "6cb8088c-2844-4785-9f31-8e1b2eaf94ef",
   "metadata": {},
   "source": [
    "<img src='cutting_stock_problem.png' width=\"300\" height=\"300\">"
   ]
  },
  {
   "cell_type": "markdown",
   "id": "d3800221-bf37-43e6-8a00-30a04123b685",
   "metadata": {},
   "source": [
    "Let $I$ be the set of patterns of cut that do not violate the max roll width: \n",
    "\n",
    "$I = \\{i \\in \\mathbb{Z_+}^m : \\sum_{j=1}^m w_ji_j \\leq W\\}$. The $i_j$ is the number of items from Order $j$ in Pattern $i$.\n",
    "\n",
    "Let $I_R$ denote a subset of $I$. For exemple, for the patterns presented in the image above we have:\n",
    "\n",
    "$I_R = \\left\\{\\begin{bmatrix} 1\\\\2\\\\0\\\\0 \\end{bmatrix}, \\begin{bmatrix} 1\\\\1\\\\1\\\\0 \\end{bmatrix}, \\begin{bmatrix} 0\\\\0\\\\1\\\\1 \\end{bmatrix}, \\begin{bmatrix} 0\\\\0\\\\0\\\\2 \\end{bmatrix}\\right\\}.$\n",
    "\n",
    "Let the variable $x_i$ be the number of Pattern $i$ to be processed. Then, the problem can be formulated as follows:\n",
    "\n",
    "$\n",
    "\\begin{eqnarray}\n",
    "\\begin{array}{rcl}\n",
    "& \\min & {\\displaystyle \\sum_{i \\in I}} \\left(W-{\\displaystyle \\sum_{j=1}^m} w_ji_j\\right) x_i\\\\\n",
    "& \\text{s.t.}& {\\displaystyle\\sum_{i \\in I}} i_jx_i \\geq b_j, \\quad j = 1, \\cdots, m,\\\\\n",
    "&            & x_i \\in \\mathbb{Z_+}, \\quad i \\in I.\\\\\n",
    "\\end{array}\n",
    "\\end{eqnarray}\n",
    "$\n",
    "\n",
    "Here, the objective is to minimize total waste."
   ]
  },
  {
   "cell_type": "markdown",
   "id": "cfad03e0-c941-4bee-b9e5-72b745846a9e",
   "metadata": {
    "tags": []
   },
   "source": [
    "### Generic problem\n",
    "A straightforward generalization of the Cutting Stock problem is the following:\n",
    "\n",
    "$(P)$\n",
    "$\n",
    "\\begin{eqnarray}\n",
    "\\begin{array}{rcl}\n",
    "& z=\\min & {\\displaystyle \\sum_{i \\in I}} c_ix_i\\\\\n",
    "& \\text{s.t.}& {\\displaystyle\\sum_{i \\in I}} a_ix_i \\geq b,\\\\\n",
    "&            & x_i \\in \\mathbb{Z_+}, \\quad i \\in I.\\\\\n",
    "\\end{array}\n",
    "\\end{eqnarray}\n",
    "$\n",
    "\n",
    "Here, $a_i$ and $b$ are column vectors.\n",
    "\n",
    "For every subset $I_R$ of $I$, we define the Restricted Master Problem *RMP* as the linear relaxation of $P$ over $I_R$.\n",
    "\n",
    "$(RMP)$\n",
    "$\n",
    "\\begin{eqnarray}\n",
    "\\begin{array}{rcl}\n",
    "z_{RMP}=& \\min & {\\displaystyle \\sum_{i \\in I_R}} c_ix_i\\\\\n",
    "& \\text{s.t.}& {\\displaystyle\\sum_{i \\in I_R}} a_ix_i \\geq b,\\\\\n",
    "& & x_i \\geq 0.\n",
    "\\end{array}\n",
    "\\end{eqnarray}\n",
    "$"
   ]
  },
  {
   "cell_type": "markdown",
   "id": "08fb0c5f-83f5-4932-90b5-c7f3186f9eba",
   "metadata": {},
   "source": [
    "The $(RMP)$ can be represented in a compact matricial notation as follows:\n",
    "\n",
    "$\n",
    "\\begin{eqnarray}\n",
    "\\begin{array}{rcl}\n",
    "z_{RMP}=& \\min & c_Rx_R\\\\\n",
    "& \\text{s.t.}&  A_Rx_R \\geq b.\\\\\n",
    "\\end{array}\n",
    "\\end{eqnarray}\n",
    "$"
   ]
  },
  {
   "cell_type": "markdown",
   "id": "1bc5d2df-e0da-4bd7-93eb-d49d4f87961e",
   "metadata": {},
   "source": [
    "Let $x_R^*$ and $\\pi_R^*$ be the primal and the dual optimum solutions of $RMP$. \n",
    "Then, the strong duality for linear programming implies that: \n",
    "$$z_{RMP} = \\pi_R^* b.$$\n",
    "\n",
    "Let $z_{LP}$ be the optimum value of the linear relaxation of $P$ over $I$.\n",
    "\n",
    "Note that we don't know $z_{LP}$ because we are assuming that $I$ is too large to be written explicitly.\n",
    "Nevertheless, since $I_R \\subseteq I$, the following inequality holds:\n",
    "$$z_{LP} \\leq z_{RMP}.$$\n",
    "\n",
    "Therefore, we know that: \n",
    "$$z_{LP} \\leq \\pi_R^* b.$$ \n",
    "If we can find a set $I_R$ for which equality holds here, then we are done. In fact, if that is the case, then we can construct an optimal solution for the linear relaxation of $P$ from the optimal solution of $RMP$ (just set $x^*_i=0$ for all $i \\notin I_R$).\n",
    "But how do we know if inequality holds without knowing $z_{LP}$?\n",
    "\n",
    "By weak duality, any feasible solution $\\pi^*$ for the dual of the linear relaxation of $P$ satisfies:\n",
    "$$\\pi^*b \\leq z_{LP}.$$\n",
    "\n",
    "In particular, if all reduce costs $c_i-\\pi_R^*a_i$, for all $i \\in I$, is non-negative, then $\\pi_R^*$ is dual feasible for the linear relaxation of $P$ and we are done!\n",
    "\n",
    "\n",
    "Finally, to check whether all these reduced costs are non-negative, we need to solve the following pricing problem:\n",
    "\n",
    "$(PP)$ $\n",
    "\\begin{eqnarray}\n",
    "\\begin{array}{rcl}\n",
    "\\sigma = & \\min & c_i-(\\pi_R^* \\sigma^*)(a_i, 1)\\\\\n",
    "& \\text{s.t.}&  i \\in I\\\\\n",
    "\\end{array}\n",
    "\\end{eqnarray}\n",
    "$\n",
    "\n",
    "Here, the \"generation\" of the columns $a_i$ must be done implicitily over all $i \\in I$.\n",
    "\n",
    "As a result,\n",
    "* if $\\sigma \\geq 0$ then $\\pi_R$ is an dual optimum for the linear relaxation of $P$ and we are done.\n",
    "* otherwise, the optimum solution of $PP$ is a candidate to be a new collumn for the $RMP$."
   ]
  },
  {
   "cell_type": "markdown",
   "id": "eca45d4e-67f1-433d-9e4b-48f99e4f9cf9",
   "metadata": {},
   "source": [
    "### Back to Cutting stock exemple:"
   ]
  },
  {
   "cell_type": "markdown",
   "id": "b62cc308-fcf5-4a6b-81e3-dda0a26ef45a",
   "metadata": {},
   "source": [
    "The columns vectors $a_i$ is not explicitily available, but it is defined through the rule that defines $I$. \n",
    "\n",
    "Accordingly, considering the $m$ vector variable $y$, the $PP$ problem becomes\n",
    "\n",
    "$\n",
    "\\begin{eqnarray}\n",
    "\\begin{array}{rcl}\n",
    "\\sigma = & \\min & \\left(W-{\\displaystyle \\sum_{j=1}^m} w_jy_j\\right)-{\\displaystyle \\sum_{j=1}^m} \\pi_j^*y_j\\\\\n",
    "& \\text{s.t.}& {\\displaystyle \\sum_{j=1}^m} w_jy_j \\leq W\\\\\n",
    "& & y_j \\geq 0.\\\\\n",
    "\\end{array}\n",
    "\\end{eqnarray}\n",
    "$ "
   ]
  },
  {
   "cell_type": "code",
   "execution_count": 2,
   "id": "94464bfc-b5d6-4a56-b02c-ff61fc4a80d9",
   "metadata": {},
   "outputs": [],
   "source": [
    "# Indexes of orders\n",
    "m = 4\n",
    "J = [k for k in range(m)]\n",
    "\n",
    "# Data\n",
    "W = 9\n",
    "w = [4, 3, 2, 5]\n",
    "b = [44, 23, 52, 31]\n",
    "\n",
    "# W = 250  # bar length\n",
    "# w = [187, 119, 74, 90]  # size of each item\n",
    "# b = [1, 2, 2, 1]  # demand for each item"
   ]
  },
  {
   "cell_type": "code",
   "execution_count": 12,
   "id": "c2e39a85-54a4-4d01-b96b-3216599f642d",
   "metadata": {
    "tags": []
   },
   "outputs": [
    {
     "name": "stdout",
     "output_type": "stream",
     "text": [
      "Master first Solution [0.0, 0.0, 31.0, 52.0, 0.0]\n",
      "Master first objective 0.0\n",
      "Master first dual solution [0.0, 0.0, 0.0, 0.0]\n",
      "Price: 0.0\n",
      "------------\n",
      "Results:\n",
      "Number of interations = 1\n",
      "Objective value = 0.0\n",
      "Quantity of rolls = 83.0\n",
      "x2 31.0 [1, 0, 0, 1]\n",
      "x3 52.0 [1, 1, 1, 0]\n"
     ]
    }
   ],
   "source": [
    "import mip\n",
    "\n",
    "# Restricted Master Problem\n",
    "master = mip.Model(\"RMP\", solver_name=mip.CBC)\n",
    "master.verbose = 0\n",
    "## Here the set I is the restricted set of patterns.\n",
    "# I = [[1, 0, 0, 0], [0, 1, 0, 0], [0, 0, 1, 0], [0, 0, 0, 1]]\n",
    "I = [[0, 0, 1, 0], [0, 0, 4, 0], [1, 0, 0, 1],[1, 1, 1, 0],[0, 0, 2, 1]]\n",
    "x = [master.add_var(var_type=mip.CONTINUOUS, name=f'x{i}') for i, array_i in enumerate(I)]\n",
    "met_demand_constraints = []\n",
    "for j in J:\n",
    "    met_demand_constraints.append(master.add_constr(mip.xsum(pattern_i[j]*x[i] for i, pattern_i in enumerate(I)) >= b[j]))\n",
    "master.objective = mip.minimize(mip.xsum((W-sum(pattern_i[j]*w[j] for j in J))*x[i] for i, pattern_i in enumerate(I)))\n",
    "\n",
    "# Pricing Problem\n",
    "pricing_problem = mip.Model(\"PP\")\n",
    "pricing_problem.verbose = 0\n",
    "y = [pricing_problem.add_var(var_type=mip.INTEGER, name=f'y{j}') for j in J]\n",
    "pricing_problem.add_constr(mip.xsum(w[j] * y[j] for j in J) <= W)\n",
    "\n",
    "def get_new_pattern(pi:list, sigma: float, pricing_problem:mip.Model, TO=1e-4):\n",
    "    \"\"\"\n",
    "    :master_dual_solution: The dual solution of the RMP.\n",
    "    :pricing_problem: The model for pricing problem.\n",
    "    :TO: Tolerance.\n",
    "    :return: A new collumn (pattern), or None if optimization criteria was met.\n",
    "    \"\"\"\n",
    "    pricing_problem.objective = mip.maximize(mip.xsum((w[j]+pi[j]) * pricing_problem.vars[j] for j in J))\n",
    "    pricing_problem.optimize()\n",
    "    price = W - pricing_problem.objective_value - sigma\n",
    "    print('Price:', price)\n",
    "    return None if price >= -TO else [pricing_problem.vars[j].x for j in J]\n",
    "\n",
    "# Initialization\n",
    "# master.relax()\n",
    "master.optimize()\n",
    "print(\"Master first Solution\", [var.x for var in x])\n",
    "print(\"Master first objective\", master.objective_value)\n",
    "# print([x[i].x for i in I])\n",
    "pi = [c.pi for c in met_demand_constraints]\n",
    "print(\"Master first dual solution\", pi)\n",
    "new_pattern = get_new_pattern(pi, sigma, pricing_problem)\n",
    "\n",
    "#Column generation iterations\n",
    "num_iter = 1\n",
    "while new_pattern is not None and num_iter < 1000:\n",
    "    I.append(new_pattern)\n",
    "    column = mip.Column(met_demand_constraints , new_pattern)\n",
    "    v = master.add_var(\n",
    "        var_type=mip.CONTINUOUS, obj=(W-sum(new_pattern[j]*w[j] for j in J)), column=column, name=f'x{len(x) + 1}')\n",
    "    x.append(v)\n",
    "    print(\"Quantity of columns:\", len(x))\n",
    "    master.optimize()\n",
    "    print(f'Master step {num_iter} Solution', [var.x for var in x])\n",
    "    pi = [c.pi for c in met_demand_constraints]\n",
    "    print(f'Master step {num_iter} dual solution', pi)\n",
    "    new_pattern = get_new_pattern(pi, sigma, pricing_problem)\n",
    "    num_iter += 1\n",
    "\n",
    "# In case the solution is not integer, we should branch and bound.\n",
    "# The following lines are workaround the get an interger solution over the generated columns.\n",
    "is_integer = True\n",
    "for var in x:\n",
    "    if var.x != int(var.x):\n",
    "        is_integer = False\n",
    "if not is_integer:\n",
    "    print(not is_integer)\n",
    "    for var in master.vars:\n",
    "        var.var_type = mip.INTEGER\n",
    "    print(master.optimize())\n",
    "\n",
    "print(\"------------\\nResults:\")\n",
    "print(\"Number of interations =\", num_iter)\n",
    "print(\"Objective value =\", master.objective_value)\n",
    "print(\"Quantity of rolls =\", sum([var.x for var in x]))\n",
    "for i, array_i in enumerate(I):\n",
    "    if x[i].x > 0:\n",
    "        print(x[i], x[i].x, array_i)\n"
   ]
  },
  {
   "cell_type": "code",
   "execution_count": null,
   "id": "5f4d8941-cf84-41ea-b27c-52952fbc750b",
   "metadata": {},
   "outputs": [],
   "source": []
  },
  {
   "cell_type": "code",
   "execution_count": null,
   "id": "eac08b0f-f3c0-434e-b174-a0e43479354c",
   "metadata": {},
   "outputs": [],
   "source": []
  },
  {
   "cell_type": "markdown",
   "id": "bc111d57-0c2e-4bdf-9ac6-93c01b8e6de4",
   "metadata": {},
   "source": [
    "### Two variable model for cutting stock problem."
   ]
  },
  {
   "cell_type": "markdown",
   "id": "a8e4fce8-f5d0-4045-a7f3-77b61f742dd1",
   "metadata": {},
   "source": []
  },
  {
   "cell_type": "code",
   "execution_count": 10,
   "id": "9c0456f7-f8dc-4fc0-8738-c46224da1fc6",
   "metadata": {},
   "outputs": [
    {
     "name": "stdout",
     "output_type": "stream",
     "text": [
      "OptimizationStatus.OPTIMAL\n",
      "0.0\n",
      "20 ['1.0', '1.0', '1.0', '0.0']\n",
      "7 ['0.0', '0.0', '2.0', '1.0']\n",
      "6 ['0.0', '1.0', '3.0', '0.0']\n",
      "24 ['1.0', '0.0', '0.0', '1.0']\n"
     ]
    }
   ],
   "source": [
    "import mip\n",
    "# Max quantity of rools\n",
    "q = 57\n",
    "# Creating the model\n",
    "model = mip.Model(\"cutting_stock\", solver_name=mip.CBC)\n",
    "model.verbose = 0\n",
    "\n",
    "# Variables\n",
    "## Quantity of demand j in roll i.\n",
    "x = {(i, j): model.add_var(var_type=mip.INTEGER, name=f'xi{i}j{j}')\n",
    "     for j in J for i in range(q)}\n",
    "## 1 if roll i is used.\n",
    "y = {i: model.add_var(var_type=mip.BINARY, name=\"y[%d]\" % i)\n",
    "     for i in range(q)}\n",
    "# aux variable: waste in each roll i.\n",
    "z = {i: model.add_var(var_type=mip.BINARY, name=\"z[%d]\" % i)\n",
    "     for i in range(q)}\n",
    "\n",
    "# Constraints\n",
    "## Meet demand\n",
    "for j in J:\n",
    "    c = model.add_constr(mip.xsum(x[i, j] for i in range(q)) >= b[j])\n",
    "## Length of rolls.\n",
    "for i in range(q):\n",
    "    c = model.add_constr(mip.xsum(w[j] * x[i, j] for j in J) + z[i] == W * y[i] )\n",
    "# Additional constraints to reduce symmetry\n",
    "# for i in range(1, q):\n",
    "#     model.add_constr(y[i - 1] >= y[i])\n",
    "\n",
    "# Objective value: minimize waste\n",
    "model.objective = mip.minimize(mip.xsum(z[i] for i in range(q)))\n",
    "\n",
    "# model.write('model.lp')\n",
    "\n",
    "# optimizing the model\n",
    "print(model.optimize())\n",
    "\n",
    "# printing the solution\n",
    "print(model.objective_value)\n",
    "patterns = {}\n",
    "for i in range(0, q):\n",
    "    pattern = []\n",
    "    for j in J:\n",
    "        if y[i].x > 0:\n",
    "            pattern.insert(j, x[i, j].x)\n",
    "    pattern_key = str(pattern[0])\n",
    "    for k in range(1, len(pattern)):\n",
    "        pattern_key += '-' + str(pattern[k])\n",
    "    qtt = patterns.setdefault(pattern_key, 0)\n",
    "    patterns[pattern_key] = qtt + 1\n",
    "\n",
    "for pattern, qtt in patterns.items():\n",
    "    print(qtt, pattern.split('-'))\n"
   ]
  },
  {
   "cell_type": "code",
   "execution_count": null,
   "id": "87e0411c-f28f-4f09-8b2a-59da644a2590",
   "metadata": {},
   "outputs": [],
   "source": []
  },
  {
   "cell_type": "markdown",
   "id": "9fac6db2-5966-4cfa-a8ad-5cc900c7e161",
   "metadata": {},
   "source": [
    "### Comparing objectives: minimum waste and minimum quantity of rolls"
   ]
  },
  {
   "cell_type": "code",
   "execution_count": 9,
   "id": "6e91aef6-0847-4e55-8bf8-49b0e583a1b7",
   "metadata": {},
   "outputs": [
    {
     "data": {
      "text/html": [
       "<div>\n",
       "<style scoped>\n",
       "    .dataframe tbody tr th:only-of-type {\n",
       "        vertical-align: middle;\n",
       "    }\n",
       "\n",
       "    .dataframe tbody tr th {\n",
       "        vertical-align: top;\n",
       "    }\n",
       "\n",
       "    .dataframe thead th {\n",
       "        text-align: right;\n",
       "    }\n",
       "</style>\n",
       "<table border=\"1\" class=\"dataframe\">\n",
       "  <thead>\n",
       "    <tr style=\"text-align: right;\">\n",
       "      <th></th>\n",
       "      <th>Case</th>\n",
       "      <th>Rolls Qtt</th>\n",
       "      <th>Total Waste</th>\n",
       "      <th>Over demand</th>\n",
       "    </tr>\n",
       "  </thead>\n",
       "  <tbody>\n",
       "    <tr>\n",
       "      <th>0</th>\n",
       "      <td>MinQuantity</td>\n",
       "      <td>57</td>\n",
       "      <td>9</td>\n",
       "      <td>[0, 0, 0, 0]</td>\n",
       "    </tr>\n",
       "    <tr>\n",
       "      <th>1</th>\n",
       "      <td>MinWaste</td>\n",
       "      <td>64</td>\n",
       "      <td>0</td>\n",
       "      <td>[0, 1, 2, 13]</td>\n",
       "    </tr>\n",
       "    <tr>\n",
       "      <th>2</th>\n",
       "      <td>MinWasteAndMinDemand</td>\n",
       "      <td>57</td>\n",
       "      <td>0</td>\n",
       "      <td>[0, 3, 0, 0]</td>\n",
       "    </tr>\n",
       "  </tbody>\n",
       "</table>\n",
       "</div>"
      ],
      "text/plain": [
       "                   Case  Rolls Qtt  Total Waste    Over demand\n",
       "0           MinQuantity         57            9   [0, 0, 0, 0]\n",
       "1              MinWaste         64            0  [0, 1, 2, 13]\n",
       "2  MinWasteAndMinDemand         57            0   [0, 3, 0, 0]"
      ]
     },
     "execution_count": 9,
     "metadata": {},
     "output_type": "execute_result"
    }
   ],
   "source": [
    "import copy\n",
    "import pandas as pd\n",
    "# Case\n",
    "\n",
    "W = 9\n",
    "w = [4, 3, 2, 5]\n",
    "b = [44, 23, 52, 31]\n",
    "\n",
    "solution_min_quantity = [1, 2, 21, 23, 10]\n",
    "patterns_min_quantity = [[0, 0, 1, 0], [0, 0, 4, 0], [1, 0, 0, 1],[1, 1, 1, 0],[0, 0, 2, 1]]\n",
    "solution_min_waste = [2, 44, 18]\n",
    "patterns_min_waste = [[0, 3, 0, 0], [1, 0, 0, 1], [0, 1, 3, 0]]\n",
    "solution_min_waste_min_quantity = [20, 7, 6, 24]\n",
    "patterns_min_waste_min_quantity = [[1, 1, 1, 0], [0, 0, 2, 1], [0, 1, 3, 0], [1, 0, 0, 1]]\n",
    "\n",
    "\n",
    "def get_kpi(solution, patterns):\n",
    "    waste = 0\n",
    "    over_demand = [-v for v in b]\n",
    "    for k, qtd in enumerate(solution):\n",
    "        pattern = patterns[k]\n",
    "        waste += qtd*W\n",
    "        for i, q in enumerate(pattern):\n",
    "            waste -= qtd*q*w[i]\n",
    "            over_demand[i] += qtd*q\n",
    "    return sum(solution), waste, over_demand\n",
    "\n",
    "df_compare = pd.DataFrame(columns=['Case', 'Rolls Qtt', 'Total Waste', 'Over demand'])\n",
    "\n",
    "\n",
    "df_compare.loc[len(df_compare)] = [\"MinQuantity\", *get_kpi(solution_min_quantity, patterns_min_quantity)]\n",
    "df_compare.loc[len(df_compare)] = [\"MinWaste\", *get_kpi(solution_min_waste, patterns_min_waste)]\n",
    "df_compare.loc[len(df_compare)] = [\"MinWasteAndMinDemand\", *get_kpi(solution_min_waste_min_quantity, patterns_min_waste_min_quantity)]\n",
    "df_compare\n"
   ]
  },
  {
   "cell_type": "code",
   "execution_count": null,
   "id": "1f201bba-8113-4d75-88b2-82f89dab8440",
   "metadata": {},
   "outputs": [],
   "source": []
  },
  {
   "cell_type": "markdown",
   "id": "794f14d3-d8f3-4ff9-b3e4-3f1b9fea1ecf",
   "metadata": {},
   "source": [
    "## Dantzig-Wolf Relaxation"
   ]
  },
  {
   "cell_type": "code",
   "execution_count": null,
   "id": "d84a04df-499d-4e74-8b7b-09557da05fb2",
   "metadata": {},
   "outputs": [],
   "source": []
  }
 ],
 "metadata": {
  "kernelspec": {
   "display_name": "Python 3 (ipykernel)",
   "language": "python",
   "name": "python3"
  },
  "language_info": {
   "codemirror_mode": {
    "name": "ipython",
    "version": 3
   },
   "file_extension": ".py",
   "mimetype": "text/x-python",
   "name": "python",
   "nbconvert_exporter": "python",
   "pygments_lexer": "ipython3",
   "version": "3.9.4"
  }
 },
 "nbformat": 4,
 "nbformat_minor": 5
}
