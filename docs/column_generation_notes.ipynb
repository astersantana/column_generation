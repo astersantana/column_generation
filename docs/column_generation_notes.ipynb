{
 "cells": [
  {
   "cell_type": "markdown",
   "id": "ec2605e4-ca7b-4c12-afc6-8c2c0d87536b",
   "metadata": {},
   "source": [
    "# Column Generation"
   ]
  },
  {
   "cell_type": "markdown",
   "id": "e6c43c05-cc8f-482c-8a8b-f94780a21457",
   "metadata": {},
   "source": [
    "### Cutting Stock exemple:"
   ]
  },
  {
   "cell_type": "markdown",
   "id": "81fab4b7-1683-48ff-b358-3b67f2301179",
   "metadata": {},
   "source": [
    "There is a number of standard rolls, all with the same width $W$, and there are $m$ orders for items that must be cut out of the standard rolls. Order $j$ requires $b_j$ items, all with the same width $w_j$.\n",
    "\n",
    "The goal is to produce all items by using a minimum number of standard rolls.\n"
   ]
  },
  {
   "attachments": {},
   "cell_type": "markdown",
   "id": "6cb8088c-2844-4785-9f31-8e1b2eaf94ef",
   "metadata": {},
   "source": [
    "<img src='attachment:89525093-83e3-404a-8b3e-ff26c4f94fc3.png' width=\"300\" height=\"300\">"
   ]
  },
  {
   "cell_type": "markdown",
   "id": "d3800221-bf37-43e6-8a00-30a04123b685",
   "metadata": {},
   "source": [
    "Let $I$ be the set of patterns of cut that do not violate the max roll width: \n",
    "\n",
    "$I = \\{i \\in \\mathbb{Z_+}^m : \\sum_{j=1}^m w_ji_j \\leq W\\}$. The $i_j$ is the number of items from Order $j$ in Patter $i$.\n",
    "\n",
    "Let $I_R$ denote a subset of $I$. For exemple, for the patterns presented in the image above we have:\n",
    "\n",
    "$I_R = \\left\\{\\begin{bmatrix} 1\\\\2\\\\0\\\\0 \\end{bmatrix}, \\begin{bmatrix} 1\\\\1\\\\1\\\\0 \\end{bmatrix}, \\begin{bmatrix} 0\\\\0\\\\1\\\\1 \\end{bmatrix}, \\begin{bmatrix} 0\\\\0\\\\0\\\\2 \\end{bmatrix}\\right\\}.$\n",
    "\n",
    "Let the variable $x_i$ be the number of Pattern $i$ to be processed. Then, the problem can be formulated as follows:\n",
    "\n",
    "$\n",
    "\\begin{eqnarray}\n",
    "\\begin{array}{rcl}\n",
    "& \\min & {\\displaystyle \\sum_{i \\in I}} \\left(W-{\\displaystyle \\sum_{j=1}^m} w_ji_j\\right) x_i\\\\\n",
    "& \\text{s.t.}& {\\displaystyle\\sum_{i \\in I}} i_jx_i \\geq b_j, \\quad j = 1, \\cdots, m,\\\\\n",
    "&            & x_i \\in \\mathbb{Z_+}, \\quad i \\in I.\\\\\n",
    "\\end{array}\n",
    "\\end{eqnarray}\n",
    "$\n",
    "\n",
    "Here, the objective is to minimize total waste."
   ]
  },
  {
   "cell_type": "markdown",
   "id": "cfad03e0-c941-4bee-b9e5-72b745846a9e",
   "metadata": {
    "tags": []
   },
   "source": [
    "### Generic problem\n",
    "A straightforward generalization of the Cutting Stock problem is the following:\n",
    "\n",
    "$(P)$\n",
    "$\n",
    "\\begin{eqnarray}\n",
    "\\begin{array}{rcl}\n",
    "& z=\\min & {\\displaystyle \\sum_{i \\in I}} c_ix_i\\\\\n",
    "& \\text{s.t.}& {\\displaystyle\\sum_{i \\in I}} a_ix_i \\geq b,\\\\\n",
    "&            & x_i \\in \\mathbb{Z_+}, \\quad i \\in I.\\\\\n",
    "\\end{array}\n",
    "\\end{eqnarray}\n",
    "$\n",
    "\n",
    "Here, $a_i$ and $b$ are column vectors.\n",
    "\n",
    "For every subset $I_R$ of $I$, we define the Restricted Master Problem *RMP* as the linear relaxation of $P$ over $I_R$.\n",
    "\n",
    "$(RMP)$\n",
    "$\n",
    "\\begin{eqnarray}\n",
    "\\begin{array}{rcl}\n",
    "z_{RMP}=& \\min & {\\displaystyle \\sum_{i \\in I_R}} c_ix_i\\\\\n",
    "& \\text{s.t.}& {\\displaystyle\\sum_{i \\in I_R}} a_ix_i \\geq b,\\\\\n",
    "& & x_i \\geq 0.\n",
    "\\end{array}\n",
    "\\end{eqnarray}\n",
    "$"
   ]
  },
  {
   "cell_type": "markdown",
   "id": "08fb0c5f-83f5-4932-90b5-c7f3186f9eba",
   "metadata": {},
   "source": [
    "The $(RMP)$ can be represented in a compact matricial notation as follows:\n",
    "\n",
    "$\n",
    "\\begin{eqnarray}\n",
    "\\begin{array}{rcl}\n",
    "z_{RMP}=& \\min & c_Rx_R\\\\\n",
    "& \\text{s.t.}&  A_Rx_R \\geq b.\\\\\n",
    "\\end{array}\n",
    "\\end{eqnarray}\n",
    "$"
   ]
  },
  {
   "cell_type": "markdown",
   "id": "1bc5d2df-e0da-4bd7-93eb-d49d4f87961e",
   "metadata": {},
   "source": [
    "Let $x_R^*$ and $\\pi_R^*$ be the primal and the dual optimum solutions of $RMP$. \n",
    "Then, the strong duality for linear programming implies that: \n",
    "$$z_{RMP} = \\pi_R^* b.$$\n",
    "\n",
    "Let $z_{LP}$ be the optimum value of the linear relaxation of $P$ over $I$.\n",
    "\n",
    "Note that we don't know $z_{LP}$ because we are assuming that $I$ is too large to be written explicitly.\n",
    "Nevertheless, since $I_R \\subseteq I$, the following inequality holds:\n",
    "$$z_{LP} \\leq z_{RMP}.$$\n",
    "\n",
    "Therefore, we know that: \n",
    "$$z_{LP} \\leq \\pi_R^* b.$$ \n",
    "If we can find a set $I_R$ for which equality holds here, then we are done. In fact, if that is the case, then we can construct an optimal solution for the linear relaxation of $P$ from the optimal solution of $RMP$ (just set $x^*_i=0$ for all $i \\notin I_R$).\n",
    "But how do we know if inequality holds without knowing $z_{LP}$?\n",
    "\n",
    "By weak duality, any feasible solution $\\pi^*$ for the dual of the linear relaxation of $P$ satisfies:\n",
    "$$\\pi^*b \\leq z_{LP}.$$\n",
    "\n",
    "In particular, if all reduce costs $c_i-\\pi_R^*a_i$, for all $i \\in I$, is non-negative, then $\\pi_R^*$ is dual feasible for the linear relaxation of $P$ and we are done!\n",
    "\n",
    "\n",
    "Finally, to check whether all these reduced costs are non-negative, we need to solve the following pricing problem:\n",
    "\n",
    "$(PP)$ $\n",
    "\\begin{eqnarray}\n",
    "\\begin{array}{rcl}\n",
    "\\sigma = & \\min & c_i-\\pi_R^*a_i\\\\\n",
    "& \\text{s.t.}&  i \\in I\\\\\n",
    "\\end{array}\n",
    "\\end{eqnarray}\n",
    "$\n",
    "\n",
    "Here, the \"generation\" of the columns $a_i$ must be done implicitily over all $i \\in I$.\n",
    "\n",
    "As a result,\n",
    "* if $\\sigma \\geq 0$ then $\\pi_R$ is an dual optimum for the linear relaxation of $P$ and we are done.\n",
    "* otherwise, the optimum solution of $PP$ is a candidate to be a new collumn for the $RMP$."
   ]
  },
  {
   "cell_type": "markdown",
   "id": "eca45d4e-67f1-433d-9e4b-48f99e4f9cf9",
   "metadata": {},
   "source": [
    "### Back to Cutting stock exemple:"
   ]
  },
  {
   "cell_type": "markdown",
   "id": "b62cc308-fcf5-4a6b-81e3-dda0a26ef45a",
   "metadata": {},
   "source": [
    "The columns vectors $a_i$ is not explicitily available, but it is defined through the rule that defines $I$. \n",
    "\n",
    "Accordingly, considering the $m$ vector variable $y$, the $PP$ problem becomes\n",
    "\n",
    "$\n",
    "\\begin{eqnarray}\n",
    "\\begin{array}{rcl}\n",
    "\\sigma = & \\min & \\left(W-{\\displaystyle \\sum_{j=1}^m} w_jy_j\\right)-{\\displaystyle \\sum_{j=1}^m} \\pi_j^*y_j\\\\\n",
    "& \\text{s.t.}& {\\displaystyle \\sum_{j=1}^m} w_jy_j \\leq W\\\\\n",
    "& & y_j \\geq 0.\\\\\n",
    "\\end{array}\n",
    "\\end{eqnarray}\n",
    "$ "
   ]
  },
  {
   "cell_type": "code",
   "execution_count": 2,
   "id": "94464bfc-b5d6-4a56-b02c-ff61fc4a80d9",
   "metadata": {},
   "outputs": [],
   "source": [
    "# Indexes of orders\n",
    "J = [0, 1, 2, 3]\n",
    "\n",
    "# Data\n",
    "W = 9\n",
    "w = [4, 3, 2, 5]\n",
    "b = [44, 23, 52, 31]\n",
    "\n",
    "# W = 250  # bar length\n",
    "# w = [187, 119, 74, 90]  # size of each item\n",
    "# b = [1, 2, 2, 1]  # demand for each item"
   ]
  },
  {
   "cell_type": "code",
   "execution_count": 13,
   "id": "c2e39a85-54a4-4d01-b96b-3216599f642d",
   "metadata": {
    "tags": []
   },
   "outputs": [
    {
     "name": "stdout",
     "output_type": "stream",
     "text": [
      "Price: -27.0\n",
      "Quantity of columns: 5\n",
      "Price: -18.0\n",
      "Quantity of columns: 6\n",
      "Price: -9.0\n",
      "Quantity of columns: 7\n",
      "Price: -4.5\n",
      "Quantity of columns: 8\n",
      "Price: -0.75\n",
      "Quantity of columns: 9\n",
      "Price: 0.0\n",
      "OptimizationStatus.OPTIMAL\n",
      "------------\n",
      "Results:\n",
      "Number of interations = 6\n",
      "Objective value = 0.0\n",
      "Quantity of rolls = 64.0\n",
      "x6 2.0 [0.0, 3.0, 0.0, 0.0]\n",
      "x8 44.0 [1.0, 0.0, 0.0, 1.0]\n",
      "x9 18.0 [0.0, 1.0, 3.0, 0.0]\n"
     ]
    }
   ],
   "source": [
    "import mip\n",
    "\n",
    "# Restricted Master Problem\n",
    "master = mip.Model(\"RMP\", solver_name=mip.CBC)\n",
    "master.verbose = 0\n",
    "## Here the set I is the restricted set of patterns. \n",
    "I = [[1, 0, 0, 0], [0, 1, 0, 0], [0, 0, 1, 0], [0, 0, 0, 1]]\n",
    "x = [master.add_var(var_type=mip.CONTINUOUS, name=f'x{i}') for i, array_i in enumerate(I)]\n",
    "constraints = []\n",
    "for j in J:\n",
    "    constraints.append(master.add_constr(mip.xsum(array_i[j]*x[i] for i, array_i in enumerate(I)) >= b[j]))\n",
    "master.objective = mip.minimize(mip.xsum((W-sum(array_i[j]*w[j] for j in J))*x[i] for i, array_i in enumerate(I)))\n",
    "\n",
    "# Pricing Problem\n",
    "pricing_problem = mip.Model(\"PP\")\n",
    "pricing_problem.verbose = 0\n",
    "y = [pricing_problem.add_var(var_type=mip.INTEGER, name=f'y{j}') for j in J]\n",
    "pricing_problem.add_constr(mip.xsum(w[j] * y[j] for j in J) <= W)\n",
    "\n",
    "\n",
    "def get_new_pattern(master_dual_solution:list, pricing_problem:mip.Model, TO=1e-4):\n",
    "    \"\"\"\n",
    "    :master_dual_solution: The dual solution of the RMP.\n",
    "    :pricing_problem: The model for pricing problem.\n",
    "    :TO: Tolerance.\n",
    "    :return: A new collumn (pattern), or None if optimization criteria was met.\n",
    "    \"\"\"\n",
    "    pricing_problem.objective = mip.maximize(mip.xsum((w[j]+master_dual_solution[j]) * pricing_problem.vars[j] for j in J))\n",
    "    pricing_problem.optimize()\n",
    "    price = W - pricing_problem.objective_value\n",
    "    print('Price:', price)\n",
    "    return None if price >= -TO else [pricing_problem.vars[j].x for j in J]\n",
    "\n",
    "# Initialization\n",
    "# master.relax()\n",
    "master.optimize()\n",
    "# print([var.x for var in x])\n",
    "# print([x[i].x for i in I])\n",
    "pi = [c.pi for c in master.constrs]\n",
    "new_pattern = get_new_pattern(pi, pricing_problem)\n",
    "\n",
    "#Column generation iterations\n",
    "num_iter = 1\n",
    "while new_pattern is not None and num_iter < 1000:\n",
    "    I.append(new_pattern)\n",
    "    column = mip.Column(constraints, new_pattern)\n",
    "    v = master.add_var(\n",
    "        var_type=mip.CONTINUOUS, obj=(W-sum(new_pattern[j]*w[j] for j in J)), column=column, name=f'x{len(x) + 1}')\n",
    "    x.append(v)\n",
    "    print(\"Quantity of columns:\", len(x))\n",
    "    master.optimize()\n",
    "    pi = [c.pi for c in constraints]\n",
    "    new_pattern = get_new_pattern(pi, pricing_problem)\n",
    "    num_iter += 1\n",
    "\n",
    "# In case the solution is not integer, we should branch and bound.\n",
    "# The following lines are workaround the get an interger solution over the generated columns.\n",
    "is_integer = True\n",
    "for var in x:\n",
    "    if var.x != int(var.x):\n",
    "        is_integer = False\n",
    "if not is_integer:\n",
    "    for var in master.vars:\n",
    "        var.var_type = mip.INTEGER\n",
    "    print(master.optimize())\n",
    "\n",
    "print(\"------------\\nResults:\")\n",
    "print(\"Number of interations =\", num_iter)\n",
    "print(\"Objective value =\", master.objective_value)\n",
    "print(\"Quantity of rolls =\", sum([var.x for var in x]))\n",
    "for i, array_i in enumerate(I):\n",
    "    if x[i].x > 0:\n",
    "        print(x[i], x[i].x, array_i)\n"
   ]
  },
  {
   "cell_type": "code",
   "execution_count": null,
   "id": "40d91c9c-cf76-4b3f-bea8-5fc8ba5192dd",
   "metadata": {},
   "outputs": [],
   "source": []
  },
  {
   "cell_type": "code",
   "execution_count": null,
   "id": "7b37e0b4-7c18-4507-9a50-6bc5eb0cf3b3",
   "metadata": {},
   "outputs": [],
   "source": []
  },
  {
   "cell_type": "code",
   "execution_count": null,
   "id": "5f4d8941-cf84-41ea-b27c-52952fbc750b",
   "metadata": {},
   "outputs": [],
   "source": []
  },
  {
   "cell_type": "code",
   "execution_count": null,
   "id": "d0dd4a26-93da-4f37-a3d5-52747180232e",
   "metadata": {},
   "outputs": [],
   "source": []
  },
  {
   "cell_type": "markdown",
   "id": "57b6b80f-52d4-4533-baa8-48ec81e813bb",
   "metadata": {},
   "source": [
    "### Comparing objectives: minimum waste and minimum  "
   ]
  },
  {
   "cell_type": "code",
   "execution_count": 4,
   "id": "6e91aef6-0847-4e55-8bf8-49b0e583a1b7",
   "metadata": {},
   "outputs": [
    {
     "name": "stdout",
     "output_type": "stream",
     "text": [
      "57 8 [0, 0, 0, 0]\n",
      "64 0 [0, 1, 2, 13]\n"
     ]
    }
   ],
   "source": [
    "import copy\n",
    "solution_min_quantity = [1, 2, 21, 23, 10]\n",
    "patterns_min_quantity = [[0, 0, 1, 0], [0, 0, 4, 0], [1, 0, 0, 1],[1, 1, 1, 0],[0, 0, 2, 1]]\n",
    "solution_min_waste = [2, 44, 18]\n",
    "patterns_min_waste = [[0, 3, 0, 0], [1, 0, 0, 1], [0, 1, 3, 0]]\n",
    "\n",
    "\n",
    "waste_min_quantity = 0\n",
    "over_demand_min_quantity = [-v for v in b]\n",
    "for k, qtd in enumerate(solution_min_quantity):\n",
    "    pattern = patterns_min_quantity[k]\n",
    "    waste_min_quantity += W\n",
    "    for i, q in enumerate(pattern):\n",
    "        waste_min_quantity -= q*w[i]\n",
    "        over_demand_min_quantity[i] += qtd*q \n",
    "    \n",
    "waste_min_waste = 0\n",
    "over_demand_min_waste = [-v for v in b]\n",
    "for k, qtd in enumerate(solution_min_waste):\n",
    "    pattern = patterns_min_waste[k]\n",
    "    waste_min_waste += W\n",
    "    for i, q in enumerate(pattern):\n",
    "        waste_min_waste -= q*w[i]\n",
    "        over_demand_min_waste[i] += qtd*q\n",
    "print(sum(solution_min_quantity), waste_min_quantity, over_demand_min_quantity)\n",
    "print(sum(solution_min_waste), waste_min_waste, over_demand_min_waste)"
   ]
  },
  {
   "cell_type": "markdown",
   "id": "6694ef59-1196-44f3-8f13-fd488bc3295c",
   "metadata": {},
   "source": [
    "|            |rolls_qtt | total_waste | over_demand |\n",
    "|------------|----------|-------------|-------------|        \n",
    "|min_qtt     |   57     |    8        |\\begin{bmatrix} 0, 0, 0, 0 \\end{bmatrix}|\n",
    "|min_waste   |   64     |    0        |\\begin{bmatrix} 0, 1, 2, 13 \\end{bmatrix}| "
   ]
  },
  {
   "cell_type": "code",
   "execution_count": null,
   "id": "a360ceac-5ad1-48b2-b063-a8efdbd2a3a6",
   "metadata": {},
   "outputs": [],
   "source": []
  },
  {
   "cell_type": "code",
   "execution_count": null,
   "id": "eac08b0f-f3c0-434e-b174-a0e43479354c",
   "metadata": {},
   "outputs": [],
   "source": []
  },
  {
   "cell_type": "markdown",
   "id": "bc111d57-0c2e-4bdf-9ac6-93c01b8e6de4",
   "metadata": {},
   "source": [
    "### Two variable model for cutting stock problem."
   ]
  },
  {
   "cell_type": "code",
   "execution_count": 12,
   "id": "9c0456f7-f8dc-4fc0-8738-c46224da1fc6",
   "metadata": {},
   "outputs": [
    {
     "name": "stdout",
     "output_type": "stream",
     "text": [
      "OptimizationStatus.OPTIMAL\n",
      "0.0\n",
      "20 ['1.0', '1.0', '1.0', '0.0']\n",
      "7 ['0.0', '0.0', '2.0', '1.0']\n",
      "6 ['0.0', '1.0', '3.0', '0.0']\n",
      "24 ['1.0', '0.0', '0.0', '1.0']\n"
     ]
    }
   ],
   "source": [
    "import mip\n",
    "# Max quantity of rools\n",
    "q = 57\n",
    "\n",
    "# Creating the model\n",
    "model = mip.Model(\"cutting_stock\", solver_name=mip.CBC)\n",
    "model.verbose = 0\n",
    "\n",
    "# Variables\n",
    "## Quantity of demand j in roll i.\n",
    "x = {(i, j): model.add_var(var_type=mip.INTEGER, name=f'xi{i}j{j}')\n",
    "     for j in J for i in range(q)}\n",
    "## 1 if roll i is used.\n",
    "y = {i: model.add_var(var_type=mip.BINARY, name=\"y[%d]\" % i)\n",
    "     for i in range(q)}\n",
    "# aux variable: waste in each roll i.\n",
    "z = {i: model.add_var(var_type=mip.BINARY, name=\"z[%d]\" % i)\n",
    "     for i in range(q)}\n",
    "\n",
    "# Constraints\n",
    "## Meet demand\n",
    "for j in J:\n",
    "    c = model.add_constr(mip.xsum(x[i, j] for i in range(q)) >= b[j])\n",
    "## Length of rolls.\n",
    "for i in range(q):\n",
    "    c = model.add_constr(mip.xsum(w[j] * x[i, j] for j in J) + z[i] == W * y[i] )\n",
    "# Additional constraints to reduce symmetry\n",
    "# for i in range(1, q):\n",
    "#     model.add_constr(y[i - 1] >= y[i])\n",
    "\n",
    "# Objective value: minimize waste\n",
    "model.objective = mip.minimize(mip.xsum(z[i] for i in range(q)))\n",
    "\n",
    "# model.write('model.lp')\n",
    "\n",
    "# optimizing the model\n",
    "print(model.optimize())\n",
    "\n",
    "# printing the solution\n",
    "print(model.objective_value)\n",
    "patterns = {}\n",
    "for i in range(0, q):\n",
    "    pattern = []\n",
    "    for j in J:\n",
    "        if y[i].x > 0:\n",
    "            pattern.insert(j, x[i, j].x)\n",
    "    pattern_key = str(pattern[0])\n",
    "    for k in range(1, len(pattern)):\n",
    "        pattern_key += '-' + str(pattern[k])\n",
    "    qtt = patterns.setdefault(pattern_key, 0)\n",
    "    patterns[pattern_key] = qtt + 1\n",
    "\n",
    "for pattern, qtt in patterns.items():\n",
    "    print(qtt, pattern.split('-'))\n"
   ]
  },
  {
   "cell_type": "code",
   "execution_count": 66,
   "id": "83770302-8b9f-438d-8cac-f4869dbc796f",
   "metadata": {},
   "outputs": [
    {
     "data": {
      "text/plain": [
       "57"
      ]
     },
     "execution_count": 66,
     "metadata": {},
     "output_type": "execute_result"
    }
   ],
   "source": [
    "22 + 9 + 20 + 1 + 3 + 1 + 1"
   ]
  },
  {
   "cell_type": "code",
   "execution_count": 67,
   "id": "4b8aa73d-3fe4-4f8e-b5d0-7218e13fab52",
   "metadata": {},
   "outputs": [
    {
     "data": {
      "text/plain": [
       "57"
      ]
     },
     "execution_count": 67,
     "metadata": {},
     "output_type": "execute_result"
    }
   ],
   "source": [
    "20 +7 + 6 + 24"
   ]
  },
  {
   "cell_type": "code",
   "execution_count": 12,
   "id": "d6c2d9b5-840c-4a42-8f5e-1ab6503ec47a",
   "metadata": {},
   "outputs": [
    {
     "data": {
      "text/plain": [
       "9"
      ]
     },
     "execution_count": 12,
     "metadata": {},
     "output_type": "execute_result"
    }
   ],
   "source": [
    "x2 1   [0, 0, 1, 0]\n",
    "x5 2   [0, 0, 4, 0]\n",
    "x8 21  [1, 0, 0, 1]\n",
    "x9 23  [1, 1, 1, 0]\n",
    "x10 10 [0, 0, 2, 1]"
   ]
  },
  {
   "cell_type": "code",
   "execution_count": 13,
   "id": "85d3ec50-a683-42d5-afc1-8587e78be4b3",
   "metadata": {},
   "outputs": [
    {
     "data": {
      "text/plain": [
       "[4, 3, 2, 5]"
      ]
     },
     "execution_count": 13,
     "metadata": {},
     "output_type": "execute_result"
    }
   ],
   "source": [
    "w"
   ]
  },
  {
   "cell_type": "code",
   "execution_count": 19,
   "id": "cfa26e82-df06-407d-84fc-0108d27ae233",
   "metadata": {},
   "outputs": [
    {
     "data": {
      "text/plain": [
       "[0, 1, 2, 3]"
      ]
     },
     "execution_count": 19,
     "metadata": {},
     "output_type": "execute_result"
    }
   ],
   "source": [
    "J"
   ]
  },
  {
   "cell_type": "code",
   "execution_count": 23,
   "id": "f908b948-e465-4750-b02e-04905d93484e",
   "metadata": {},
   "outputs": [
    {
     "data": {
      "text/plain": [
       "[44, 23, 52, 31]"
      ]
     },
     "execution_count": 23,
     "metadata": {},
     "output_type": "execute_result"
    }
   ],
   "source": [
    "b"
   ]
  },
  {
   "cell_type": "code",
   "execution_count": null,
   "id": "87e0411c-f28f-4f09-8b2a-59da644a2590",
   "metadata": {},
   "outputs": [],
   "source": []
  }
 ],
 "metadata": {
  "kernelspec": {
   "display_name": "Python 3 (ipykernel)",
   "language": "python",
   "name": "python3"
  },
  "language_info": {
   "codemirror_mode": {
    "name": "ipython",
    "version": 3
   },
   "file_extension": ".py",
   "mimetype": "text/x-python",
   "name": "python",
   "nbconvert_exporter": "python",
   "pygments_lexer": "ipython3",
   "version": "3.9.5"
  }
 },
 "nbformat": 4,
 "nbformat_minor": 5
}
