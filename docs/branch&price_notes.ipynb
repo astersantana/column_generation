{
 "cells": [
  {
   "cell_type": "markdown",
   "id": "ec2605e4-ca7b-4c12-afc6-8c2c0d87536b",
   "metadata": {},
   "source": [
    "# Branch and Price"
   ]
  },
  {
   "cell_type": "markdown",
   "id": "7385e997-c8fe-4dd1-a629-5a87813ab254",
   "metadata": {},
   "source": [
    "MIP problem\n",
    "\n",
    "$(P)$\n",
    "\n",
    "\\begin{eqnarray}\n",
    "\\begin{array}{rcl}\n",
    "& z=\\min & {\\displaystyle \\sum_{i \\in I}} c_ix_i\\\\\n",
    "& \\text{s.t.}& {\\displaystyle\\sum_{i \\in I}} a_ix_i \\geq b\\\\\n",
    "&            & x_i \\in \\mathbb{Z_+}, \\quad i \\in I\\\\\n",
    "\\end{array}\n",
    "\\end{eqnarray}\n",
    "\n",
    "\n",
    "\n",
    "$a_i$ and $b$ are column vectors."
   ]
  },
  {
   "cell_type": "markdown",
   "id": "e6c43c05-cc8f-482c-8a8b-f94780a21457",
   "metadata": {},
   "source": [
    "### Cutting Stock exemple:"
   ]
  },
  {
   "cell_type": "markdown",
   "id": "81fab4b7-1683-48ff-b358-3b67f2301179",
   "metadata": {},
   "source": [
    "There is $m$ orders with widths $w_j$ each one with demand $b_j$, and the standard roll with $W$ width. \n",
    "\n",
    "We want to cut the ordered rolls to fullfill theirs demand by using a minimum quantity of standard rolls.\n"
   ]
  },
  {
   "attachments": {
    "7670c21c-8f24-4ed6-98d2-89f6caffe863.png": {
     "image/png": "[encoded data removed]"
    }
   },
   "cell_type": "markdown",
   "id": "6cb8088c-2844-4785-9f31-8e1b2eaf94ef",
   "metadata": {},
   "source": [
    "<img src='attachment:7670c21c-8f24-4ed6-98d2-89f6caffe863.png' width=\"300\" height=\"300\">"
   ]
  },
  {
   "cell_type": "markdown",
   "id": "d3800221-bf37-43e6-8a00-30a04123b685",
   "metadata": {},
   "source": [
    "Let $I$ be the set of patterns of cut that do not violate the max roll width: \n",
    "\n",
    "$I = \\{i \\in \\mathbb{Z_+}^m : \\sum_{j=1}^m w_ji_j \\leq W\\}$.\n",
    "\n",
    "The set $I_R$ will now on denote a subset of $I$, for exemplo, for the patterns presented in the image above it is\n",
    "\n",
    "$I_R = \\left\\{\\begin{bmatrix} 1\\\\2\\\\0\\\\0 \\end{bmatrix}, \\begin{bmatrix} 1\\\\1\\\\1\\\\0 \\end{bmatrix}, \\begin{bmatrix} 0\\\\0\\\\1\\\\1 \\end{bmatrix}, \\begin{bmatrix} 0\\\\0\\\\0\\\\2 \\end{bmatrix}\\right\\}$"
   ]
  },
  {
   "cell_type": "markdown",
   "id": "f7287e4a-1da7-4f65-8dac-464ce1fadf39",
   "metadata": {},
   "source": [
    "The variable $x_i$ is the amount of pattern $i$ to processed. Therefore the problem can be formulated as following:"
   ]
  },
  {
   "cell_type": "markdown",
   "id": "74355db5-adef-46bc-ab90-d3a8895f4a06",
   "metadata": {},
   "source": [
    "$\n",
    "\\begin{eqnarray}\n",
    "\\begin{array}{rcl}\n",
    "& \\min & {\\displaystyle \\sum_{i \\in I}} x_i\\\\\n",
    "& \\text{s.t.}& {\\displaystyle\\sum_{i \\in I}} i_jx_i \\geq b\\\\\n",
    "&            & x_i \\in \\mathbb{Z_+}, \\quad i \\in I\\\\\n",
    "\\end{array}\n",
    "\\end{eqnarray}\n",
    "$"
   ]
  },
  {
   "cell_type": "markdown",
   "id": "a8f564b5-6cb3-4c68-807f-b4b3832a76f7",
   "metadata": {},
   "source": [
    " "
   ]
  },
  {
   "cell_type": "markdown",
   "id": "cfad03e0-c941-4bee-b9e5-72b745846a9e",
   "metadata": {
    "tags": []
   },
   "source": [
    "### Back to the (P) problem"
   ]
  },
  {
   "cell_type": "markdown",
   "id": "a5619998-0266-4a7e-a7dc-194f044e7506",
   "metadata": {},
   "source": [
    "$I_R$ is the restricted subset of $I$, hence it defines the Restricted Master Problem $RMP$ as the linear relaxation of $P$ over $I_R$.\n"
   ]
  },
  {
   "cell_type": "markdown",
   "id": "7fa7791d-6e9d-4985-81e0-87b541fa7651",
   "metadata": {},
   "source": [
    "$(RMP)$\n",
    "$\n",
    "\\begin{eqnarray}\n",
    "\\begin{array}{rcl}\n",
    "z_{RMP}=& \\min & {\\displaystyle \\sum_{i \\in I_R}} c_ix_i\\\\\n",
    "& \\text{s.t.}& {\\displaystyle\\sum_{i \\in I_R}} a_ix_i \\geq b\\\\\n",
    "& & x_i \\geq 0\n",
    "\\end{array}\n",
    "\\end{eqnarray}\n",
    "$"
   ]
  },
  {
   "cell_type": "markdown",
   "id": "08fb0c5f-83f5-4932-90b5-c7f3186f9eba",
   "metadata": {},
   "source": [
    "The $(RMP)$ can be represented in a compact matricial notation:\n",
    "\n",
    "$\n",
    "\\begin{eqnarray}\n",
    "\\begin{array}{rcl}\n",
    "z_{RMP}=& \\min & c_Rx_R\\\\\n",
    "& \\text{s.t.}&  A_Rx_R \\geq b\\\\\n",
    "\\end{array}\n",
    "\\end{eqnarray}\n",
    "$"
   ]
  },
  {
   "cell_type": "markdown",
   "id": "1bc5d2df-e0da-4bd7-93eb-d49d4f87961e",
   "metadata": {},
   "source": [
    "Let $x_R^*$ and $\\pi_R^*$ the primal and dual optimum solutions of $RMP$. \n",
    "\n",
    "The strong duality of linear optimization problems gives $z_{RMP} = \\pi_R^* b$.\n",
    "\n",
    "Besides, consider the $z_{LP}$ the optimum value of the linear relaxation of $P$ over $I$, which is a not known value at this moment.\n",
    "\n",
    "Despite that, as $I_R \\subseteq I$ than $z_{LP} \\leq z_{RMP}$.\n",
    "\n",
    "Therefore, $\\pi_R^* b$ is an upper bound for the linear relaxation of $P$. Would the equality happens here? If that is true, as $c_Rx_R^*= \\pi_R^* b$ than $x_R$ is an optimum solution for the LR of $P$.\n",
    "\n",
    "In order to awnser that question, it is intended to check if $\\pi_R^*$ would be dual feasible for the LR of $P$ as well. As for simplex method, the reduced cost should be greater or equal to zero.\n",
    "\n",
    "It should be done implicitily over the set $I$, that is, we should solve the following pricing problem:\n",
    "\n"
   ]
  },
  {
   "cell_type": "markdown",
   "id": "4c6ff49c-5737-4747-9e06-f86b52f57dfe",
   "metadata": {},
   "source": [
    "$(PP)$ $\n",
    "\\begin{eqnarray}\n",
    "\\begin{array}{rcl}\n",
    "\\sigma = & \\min & c_i-\\pi_R^*a_i\\\\\n",
    "& \\text{s.t.}&  i \\in I\\\\\n",
    "\\end{array}\n",
    "\\end{eqnarray}\n",
    "$"
   ]
  },
  {
   "cell_type": "markdown",
   "id": "a4703969-9409-4de9-a1bd-bb2b0c1d397a",
   "metadata": {},
   "source": [
    "Therefore, \n",
    "* if $\\sigma \\geq 0$ then $\\pi_R$ is an dual optimum of the LR of $(P)$.\n",
    "* otherwise, the optimum solution of $(PP)$ is a candidate to be a new collumn for the $(RMP)$."
   ]
  },
  {
   "cell_type": "markdown",
   "id": "eca45d4e-67f1-433d-9e4b-48f99e4f9cf9",
   "metadata": {},
   "source": [
    "### Back to Cutting stock exemple:"
   ]
  },
  {
   "cell_type": "markdown",
   "id": "b62cc308-fcf5-4a6b-81e3-dda0a26ef45a",
   "metadata": {},
   "source": [
    "The columns vectors $a_i$ is not explicitily available, but it is defined through the rule that defines $I$. \n",
    "\n",
    "Accordingly, considering the $m$ vector variable $y$, the $PP$ problem becomes\n",
    "\n",
    "$\n",
    "\\begin{eqnarray}\n",
    "\\begin{array}{rcl}\n",
    "\\sigma = & \\min & 1-{\\displaystyle \\sum_{j=1}^m} \\pi_j^*y_j\\\\\n",
    "& \\text{s.t.}& {\\displaystyle \\sum_{j=1}^m} w_jy_j \\leq W\\\\\n",
    "& & y_j \\geq 0.\\\\\n",
    "\\end{array}\n",
    "\\end{eqnarray}\n",
    "$ "
   ]
  }
 ],
 "metadata": {
  "kernelspec": {
   "display_name": "Python 3 (ipykernel)",
   "language": "python",
   "name": "python3"
  },
  "language_info": {
   "codemirror_mode": {
    "name": "ipython",
    "version": 3
   },
   "file_extension": ".py",
   "mimetype": "text/x-python",
   "name": "python",
   "nbconvert_exporter": "python",
   "pygments_lexer": "ipython3",
   "version": "3.9.4"
  }
 },
 "nbformat": 4,
 "nbformat_minor": 5
}
